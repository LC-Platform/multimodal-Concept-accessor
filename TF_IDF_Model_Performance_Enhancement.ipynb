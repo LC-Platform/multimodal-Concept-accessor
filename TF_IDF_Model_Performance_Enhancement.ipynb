{
  "nbformat": 4,
  "nbformat_minor": 0,
  "metadata": {
    "colab": {
      "provenance": [],
      "authorship_tag": "ABX9TyNLIwRLJghcMsVnuQgr2cT3",
      "include_colab_link": true
    },
    "kernelspec": {
      "name": "python3",
      "display_name": "Python 3"
    },
    "language_info": {
      "name": "python"
    }
  },
  "cells": [
    {
      "cell_type": "markdown",
      "metadata": {
        "id": "view-in-github",
        "colab_type": "text"
      },
      "source": [
        "<a href=\"https://colab.research.google.com/github/LC-Platform/multimodal-Concept-accessor/blob/Domain-keyword-identifier/TF_IDF_Model_Performance_Enhancement.ipynb\" target=\"_parent\"><img src=\"https://colab.research.google.com/assets/colab-badge.svg\" alt=\"Open In Colab\"/></a>"
      ]
    },
    {
      "cell_type": "code",
      "execution_count": null,
      "metadata": {
        "id": "Bck8QkH0PCHG"
      },
      "outputs": [],
      "source": []
    },
    {
      "cell_type": "markdown",
      "source": [
        "# PHASE 2 Development"
      ],
      "metadata": {
        "id": "G236QZ_CrsKw"
      }
    },
    {
      "cell_type": "markdown",
      "source": [
        "CODE 1"
      ],
      "metadata": {
        "id": "537p7sy0o5gB"
      }
    },
    {
      "cell_type": "code",
      "source": [
        "import nltk\n",
        "import fitz\n",
        "import re\n",
        "from nltk.corpus import stopwords\n",
        "from sklearn.feature_extraction.text import TfidfVectorizer\n",
        "from nltk.stem import WordNetLemmatizer\n",
        "from nltk.collocations import BigramCollocationFinder\n",
        "from nltk.metrics import BigramAssocMeasures\n",
        "from sklearn.metrics import precision_score, recall_score, f1_score, accuracy_score\n",
        "from collections import Counter\n",
        "import numpy as np\n",
        "\n",
        "try:\n",
        "    nltk.data.find('tokenizers/punkt')\n",
        "except LookupError:\n",
        "    nltk.download('punkt')\n",
        "try:\n",
        "    nltk.data.find('corpora/stopwords')\n",
        "except LookupError:\n",
        "    nltk.download('stopwords')\n",
        "try:\n",
        "    nltk.data.find('corpora/wordnet')\n",
        "except LookupError:\n",
        "    nltk.download('wordnet')\n",
        "try:\n",
        "    nltk.data.find('corpora/omw-1.4')\n",
        "except LookupError:\n",
        "    nltk.download('omw-1.4')\n",
        "\n",
        "def extract_text_from_pdf(path):\n",
        "    doc = fitz.open(path)\n",
        "    full_text = \"\"\n",
        "    for page in doc:\n",
        "        full_text += page.get_text()\n",
        "    doc.close()\n",
        "    return full_text\n",
        "\n",
        "lemmatizer = WordNetLemmatizer()\n",
        "\n",
        "def normalize(text):\n",
        "    text = text.lower()\n",
        "    text = re.sub(r\"[^a-z\\s]\", \"\", text)\n",
        "    words = nltk.word_tokenize(text)\n",
        "    stop_words = set(stopwords.words(\"english\"))\n",
        "    return \" \".join([lemmatizer.lemmatize(w) for w in words if w not in stop_words and len(w) > 2])\n",
        "\n",
        "def extract_pmi_phrases(text, top_n=50, pmi_threshold=5, min_freq=2):\n",
        "    words = nltk.word_tokenize(text)\n",
        "    words = [w for w in words if w not in stopwords.words(\"english\") and len(w) > 2]\n",
        "    if len(words) < 2:\n",
        "        return []\n",
        "    finder = BigramCollocationFinder.from_words(words)\n",
        "    finder.apply_freq_filter(min_freq)\n",
        "    acceptable_bigrams = [\n",
        "        bigram for bigram in finder.ngram_fd\n",
        "        if all(word not in stopwords.words(\"english\") and len(word) > 2 for word in bigram)\n",
        "    ]\n",
        "    finder.ngram_fd = Counter({bg: finder.ngram_fd[bg] for bg in acceptable_bigrams})\n",
        "    if not finder.ngram_fd:\n",
        "        return []\n",
        "    try:\n",
        "        scored = finder.score_ngrams(BigramAssocMeasures.pmi)\n",
        "    except ValueError as e:\n",
        "        return []\n",
        "    pmi_phrases = [' '.join(bigram) for bigram, score in scored if score >= pmi_threshold]\n",
        "    return pmi_phrases[:top_n]\n",
        "\n",
        "def replace_phrases(text, phrases):\n",
        "    phrases_sorted = sorted(phrases, key=lambda x: -len(x.split()))\n",
        "    processed_text = text\n",
        "    for phrase in phrases_sorted:\n",
        "        escaped = re.escape(phrase)\n",
        "        pattern = r'\\b' + escaped.replace(' ', r'\\s+') + r'\\b'\n",
        "        processed_text = re.sub(pattern, phrase.replace(\" \", \"_\"), processed_text)\n",
        "    return processed_text\n",
        "\n",
        "def extract_tfidf_keywords(text, top_n=30, tfidf_threshold=0.1, ngram_range=(1, 3)):\n",
        "    vectorizer = TfidfVectorizer(ngram_range=ngram_range, stop_words='english')\n",
        "    X = vectorizer.fit_transform([text])\n",
        "    if X.shape[1] == 0:\n",
        "        return []\n",
        "    features = vectorizer.get_feature_names_out()\n",
        "    scores = X.toarray()[0]\n",
        "    tfidf_keywords = [(features[i], scores[i]) for i in range(len(features))]\n",
        "    sorted_keywords = sorted(tfidf_keywords, key=lambda x: x[1], reverse=True)\n",
        "    final_keywords = [(kw, score) for kw, score in sorted_keywords if score >= tfidf_threshold][:top_n]\n",
        "    return [kw.replace('_', ' ') for kw, score in final_keywords]\n",
        "\n",
        "def evaluate_flexible(predicted, truth):\n",
        "    def normalize_kw(kw):\n",
        "        kw = re.sub(r'[^\\w\\s]', '', kw).lower().strip()\n",
        "        return kw\n",
        "    pred_set = set(normalize_kw(k) for k in predicted if normalize_kw(k))\n",
        "    true_set = set(normalize_kw(k) for k in truth if normalize_kw(k))\n",
        "    matched_true = set()\n",
        "    matched_pred = set()\n",
        "    for t in true_set:\n",
        "        for p in pred_set:\n",
        "            if t in p or p in t:\n",
        "                matched_true.add(t)\n",
        "                matched_pred.add(p)\n",
        "    true_positives = len(matched_true)\n",
        "    false_positives = len(pred_set - matched_pred)\n",
        "    false_negatives = len(true_set - matched_true)\n",
        "    precision = true_positives / (true_positives + false_positives) if (true_positives + false_positives) > 0 else 0\n",
        "    recall = true_positives / (true_positives + false_negatives) if (true_positives + false_negatives) > 0 else 0\n",
        "    f1 = 2 * (precision * recall) / (precision + recall) if (precision + recall) > 0 else 0\n",
        "    all_terms = sorted(list(pred_set | true_set))\n",
        "    y_true_binary = [1 if normalize_kw(kw) in true_set else 0 for kw in all_terms]\n",
        "    y_pred_binary = [1 if normalize_kw(kw) in pred_set else 0 for kw in all_terms]\n",
        "    return {\n",
        "        \"Precision\": precision,\n",
        "        \"Recall\": recall,\n",
        "        \"F1 Score\": f1\n",
        "    }\n",
        "\n",
        "PMI_THRESHOLD = 4\n",
        "TFIDF_THRESHOLD = 0.05\n",
        "TOP_N_PMI = 100\n",
        "TOP_N_TFIDF = 100\n",
        "MIN_PMI_FREQ = 2\n",
        "TFIDF_NGRAM_RANGE = (1, 3)\n",
        "\n",
        "pdf_path = \"/content/Class-XI-Biology.pdf\"\n",
        "manual_keyword_path = \"/content/Chapter3_biology_keywords.txt\"\n",
        "\n",
        "def load_manual_keywords(path):\n",
        "    with open(path, \"r\", encoding=\"utf-8\") as f:\n",
        "        lines = [line.strip(\"- \\n\") for line in f if line.strip()]\n",
        "    lemmatizer = WordNetLemmatizer()\n",
        "    return [\" \".join([lemmatizer.lemmatize(w) for w in nltk.word_tokenize(line.lower())]) for line in lines]\n",
        "\n",
        "raw_text = extract_text_from_pdf(pdf_path)\n",
        "cleaned_text = normalize(raw_text)\n",
        "pmi_phrases = extract_pmi_phrases(cleaned_text, top_n=TOP_N_PMI, pmi_threshold=PMI_THRESHOLD, min_freq=MIN_PMI_FREQ)\n",
        "print(f\"Extracted {len(pmi_phrases)} PMI phrases.\")\n",
        "enhanced_text = replace_phrases(cleaned_text, pmi_phrases)\n",
        "tfidf_keywords_enhanced = extract_tfidf_keywords(enhanced_text, top_n=TOP_N_TFIDF, tfidf_threshold=TFIDF_THRESHOLD, ngram_range=TFIDF_NGRAM_RANGE)\n",
        "print(f\"Extracted {len(tfidf_keywords_enhanced)} TF-IDF keywords from enhanced text.\")\n",
        "final_keywords = tfidf_keywords_enhanced\n",
        "\n",
        "print(\"\\nCandidate Keywords (TF-IDF from Enhanced Text):\")\n",
        "for kw in final_keywords:\n",
        "    print(kw)\n",
        "\n",
        "manual_keywords = load_manual_keywords(manual_keyword_path)\n",
        "print(f\"\\nLoaded {len(manual_keywords)} manual keywords.\")\n",
        "metrics = evaluate_flexible(final_keywords, manual_keywords)\n",
        "\n",
        "print(\"\\nEvaluation Metrics (TF-IDF from Enhanced Text vs Manual):\")\n",
        "for key, value in metrics.items():\n",
        "    print(f\"{key}: {value:.4f}\")\n"
      ],
      "metadata": {
        "colab": {
          "base_uri": "https://localhost:8080/"
        },
        "id": "F6pmmSBrLapo",
        "outputId": "9cb52608-9db7-4aee-8fab-a4c049716bb8"
      },
      "execution_count": null,
      "outputs": [
        {
          "output_type": "stream",
          "name": "stderr",
          "text": [
            "[nltk_data] Downloading package wordnet to /root/nltk_data...\n",
            "[nltk_data]   Package wordnet is already up-to-date!\n",
            "[nltk_data] Downloading package omw-1.4 to /root/nltk_data...\n",
            "[nltk_data]   Package omw-1.4 is already up-to-date!\n"
          ]
        },
        {
          "output_type": "stream",
          "name": "stdout",
          "text": [
            "Extracted 100 PMI phrases.\n",
            "Extracted 63 TF-IDF keywords from enhanced text.\n",
            "\n",
            "Candidate Keywords (TF-IDF from Enhanced Text):\n",
            "algae\n",
            "plant\n",
            "called\n",
            "form\n",
            "gametophyte\n",
            "water\n",
            "male\n",
            "spore\n",
            "female\n",
            "figure\n",
            "reproduction\n",
            "cell\n",
            "gamete\n",
            "produce\n",
            "kingdom\n",
            "body\n",
            "bryophyte\n",
            "moss\n",
            "ovule\n",
            "pteridophyte\n",
            "sporophyte\n",
            "organ\n",
            "angiosperm\n",
            "classification\n",
            "gymnosperm\n",
            "leaf\n",
            "plant kingdom\n",
            "sex\n",
            "green\n",
            "multicellular\n",
            "pollen\n",
            "red\n",
            "seed\n",
            "structure\n",
            "archegonium\n",
            "food\n",
            "place\n",
            "sex organ\n",
            "sexual\n",
            "vegetative\n",
            "zygote\n",
            "develops\n",
            "liverwort\n",
            "plant body\n",
            "specie\n",
            "stage\n",
            "thallus\n",
            "tree\n",
            "used\n",
            "usually\n",
            "brown\n",
            "fertilisation\n",
            "gemma\n",
            "grain\n",
            "like\n",
            "male gamete\n",
            "member\n",
            "pollen grain\n",
            "red algae\n",
            "root\n",
            "sexual reproduction\n",
            "size\n",
            "strobilus\n",
            "\n",
            "Loaded 146 manual keywords.\n",
            "\n",
            "Evaluation Metrics (TF-IDF from Enhanced Text vs Manual):\n",
            "Precision: 0.6494\n",
            "Recall: 0.3448\n",
            "F1 Score: 0.4505\n"
          ]
        }
      ]
    },
    {
      "cell_type": "markdown",
      "source": [
        "PHASE 2 DEVELOPMENT"
      ],
      "metadata": {
        "id": "dSDK1GVQlIRH"
      }
    },
    {
      "cell_type": "code",
      "source": [
        "!pip install nltk scikit-learn PyMuPDF\n",
        "\n",
        "import nltk\n",
        "import fitz\n",
        "import re\n",
        "import numpy as np\n",
        "from nltk.corpus import stopwords\n",
        "from nltk.stem import WordNetLemmatizer\n",
        "from nltk.collocations import BigramCollocationFinder\n",
        "from nltk.metrics import BigramAssocMeasures\n",
        "from sklearn.feature_extraction.text import TfidfVectorizer\n",
        "from sklearn.metrics import precision_score, recall_score, f1_score\n",
        "from collections import Counter\n",
        "from nltk import word_tokenize, pos_tag\n",
        "from nltk import pos_tag, word_tokenize\n",
        "nltk.download('punkt')\n",
        "nltk.download('punkt_tab')\n",
        "nltk.download('stopwords')\n",
        "nltk.download('wordnet')\n",
        "nltk.download('averaged_perceptron_tagger')\n",
        "nltk.download('averaged_perceptron_tagger_eng')"
      ],
      "metadata": {
        "id": "kQituR0HQAbZ",
        "colab": {
          "base_uri": "https://localhost:8080/"
        },
        "outputId": "7ca1c008-186c-4da9-9637-14ded4caa5c9"
      },
      "execution_count": null,
      "outputs": [
        {
          "output_type": "stream",
          "name": "stdout",
          "text": [
            "Requirement already satisfied: nltk in /usr/local/lib/python3.11/dist-packages (3.9.1)\n",
            "Requirement already satisfied: scikit-learn in /usr/local/lib/python3.11/dist-packages (1.6.1)\n",
            "Requirement already satisfied: PyMuPDF in /usr/local/lib/python3.11/dist-packages (1.25.5)\n",
            "Requirement already satisfied: click in /usr/local/lib/python3.11/dist-packages (from nltk) (8.2.0)\n",
            "Requirement already satisfied: joblib in /usr/local/lib/python3.11/dist-packages (from nltk) (1.5.0)\n",
            "Requirement already satisfied: regex>=2021.8.3 in /usr/local/lib/python3.11/dist-packages (from nltk) (2024.11.6)\n",
            "Requirement already satisfied: tqdm in /usr/local/lib/python3.11/dist-packages (from nltk) (4.67.1)\n",
            "Requirement already satisfied: numpy>=1.19.5 in /usr/local/lib/python3.11/dist-packages (from scikit-learn) (2.0.2)\n",
            "Requirement already satisfied: scipy>=1.6.0 in /usr/local/lib/python3.11/dist-packages (from scikit-learn) (1.15.3)\n",
            "Requirement already satisfied: threadpoolctl>=3.1.0 in /usr/local/lib/python3.11/dist-packages (from scikit-learn) (3.6.0)\n"
          ]
        },
        {
          "output_type": "stream",
          "name": "stderr",
          "text": [
            "[nltk_data] Downloading package punkt to /root/nltk_data...\n",
            "[nltk_data]   Package punkt is already up-to-date!\n",
            "[nltk_data] Downloading package punkt_tab to /root/nltk_data...\n",
            "[nltk_data]   Package punkt_tab is already up-to-date!\n",
            "[nltk_data] Downloading package stopwords to /root/nltk_data...\n",
            "[nltk_data]   Package stopwords is already up-to-date!\n",
            "[nltk_data] Downloading package wordnet to /root/nltk_data...\n",
            "[nltk_data]   Package wordnet is already up-to-date!\n",
            "[nltk_data] Downloading package averaged_perceptron_tagger to\n",
            "[nltk_data]     /root/nltk_data...\n",
            "[nltk_data]   Unzipping taggers/averaged_perceptron_tagger.zip.\n",
            "[nltk_data] Downloading package averaged_perceptron_tagger_eng to\n",
            "[nltk_data]     /root/nltk_data...\n",
            "[nltk_data]   Unzipping taggers/averaged_perceptron_tagger_eng.zip.\n"
          ]
        },
        {
          "output_type": "execute_result",
          "data": {
            "text/plain": [
              "True"
            ]
          },
          "metadata": {},
          "execution_count": 24
        }
      ]
    },
    {
      "cell_type": "code",
      "source": [
        "\n",
        "!pip install thefuzz\n"
      ],
      "metadata": {
        "colab": {
          "base_uri": "https://localhost:8080/"
        },
        "id": "ylcFPlvkmFVQ",
        "outputId": "d73048ea-8b43-4ee0-ed40-f48363eed4c9"
      },
      "execution_count": null,
      "outputs": [
        {
          "output_type": "stream",
          "name": "stdout",
          "text": [
            "Collecting thefuzz\n",
            "  Downloading thefuzz-0.22.1-py3-none-any.whl.metadata (3.9 kB)\n",
            "Collecting rapidfuzz<4.0.0,>=3.0.0 (from thefuzz)\n",
            "  Downloading rapidfuzz-3.13.0-cp311-cp311-manylinux_2_17_x86_64.manylinux2014_x86_64.whl.metadata (12 kB)\n",
            "Downloading thefuzz-0.22.1-py3-none-any.whl (8.2 kB)\n",
            "Downloading rapidfuzz-3.13.0-cp311-cp311-manylinux_2_17_x86_64.manylinux2014_x86_64.whl (3.1 MB)\n",
            "\u001b[2K   \u001b[90m━━━━━━━━━━━━━━━━━━━━━━━━━━━━━━━━━━━━━━━━\u001b[0m \u001b[32m3.1/3.1 MB\u001b[0m \u001b[31m27.0 MB/s\u001b[0m eta \u001b[36m0:00:00\u001b[0m\n",
            "\u001b[?25hInstalling collected packages: rapidfuzz, thefuzz\n",
            "Successfully installed rapidfuzz-3.13.0 thefuzz-0.22.1\n"
          ]
        }
      ]
    },
    {
      "cell_type": "code",
      "source": [
        "from thefuzz import fuzz\n",
        "\n",
        "lemmatizer = WordNetLemmatizer()\n",
        "stop_words = set(stopwords.words(\"english\"))\n",
        "\n",
        "def extract_text_from_pdf(path):\n",
        "    import fitz\n",
        "    doc = fitz.open(path)\n",
        "    full_text = \"\"\n",
        "    for page in doc:\n",
        "        full_text += page.get_text()\n",
        "    doc.close()\n",
        "    return full_text\n",
        "def remove_common_junk(keywords, junk_terms=[\"figure\", \"table\", \"chapter\", \"section\", \"list\", \"example\", \"includes\", \"contain\", \"introduction\"]):\n",
        "    cleaned = []\n",
        "    for kw in keywords:\n",
        "\n",
        "        if not any(junk in kw.lower() for junk in junk_terms):\n",
        "            cleaned.append(kw)\n",
        "    return cleaned\n",
        "def normalize(text):\n",
        "    text = text.lower()\n",
        "    text = re.sub(r\"[^a-z\\s]\", \" \", text)\n",
        "    words = word_tokenize(text)\n",
        "    return \" \".join([lemmatizer.lemmatize(w) for w in words if w not in stop_words and len(w) > 2])\n",
        "\n",
        "def extract_pmi_phrases(text, top_n=100, pmi_threshold=4, min_freq=2):\n",
        "    words = word_tokenize(text)\n",
        "    words = [w for w in words if w not in stop_words and len(w) > 2]\n",
        "    if len(words) < 2:\n",
        "        return []\n",
        "    finder = BigramCollocationFinder.from_words(words)\n",
        "    finder.apply_freq_filter(min_freq)\n",
        "    acceptable_bigrams = [\n",
        "        bigram for bigram in finder.ngram_fd\n",
        "        if all(word not in stop_words and len(word) > 2 for word in bigram)\n",
        "    ]\n",
        "    finder.ngram_fd = Counter({bg: finder.ngram_fd[bg] for bg in acceptable_bigrams})\n",
        "    if not finder.ngram_fd:\n",
        "        return []\n",
        "    scored = finder.score_ngrams(BigramAssocMeasures.pmi)\n",
        "    pmi_phrases = [' '.join(bigram) for bigram, score in scored if score >= pmi_threshold]\n",
        "    pmi_phrases = [p for p in pmi_phrases if not is_repeated_phrase(p)]\n",
        "    return pmi_phrases[:top_n]\n",
        "\n",
        "def is_repeated_phrase(phrase):\n",
        "    words = phrase.split()\n",
        "    return len(words) > 1 and all(w == words[0] for w in words)\n",
        "\n",
        "def keep_noun_phrases(phrases):\n",
        "    filtered = []\n",
        "    for phrase in phrases:\n",
        "        tokens = word_tokenize(phrase)\n",
        "        tags = pos_tag(tokens)\n",
        "        if any(tag.startswith(\"NN\") for _, tag in tags):\n",
        "            filtered.append(phrase)\n",
        "    return filtered\n",
        "\n",
        "def replace_phrases(text, phrases):\n",
        "    phrases_sorted = sorted(phrases, key=lambda x: -len(x.split()))\n",
        "    for phrase in phrases_sorted:\n",
        "        escaped = re.escape(phrase)\n",
        "        pattern = r'\\b' + escaped.replace(' ', r'\\s+') + r'\\b'\n",
        "        text = re.sub(pattern, phrase.replace(\" \", \"_\"), text)\n",
        "    return text\n",
        "\n",
        "def extract_tfidf_keywords(text, top_n=100, tfidf_threshold=0.05, ngram_range=(1, 3)):\n",
        "    vectorizer = TfidfVectorizer(ngram_range=ngram_range, stop_words='english')\n",
        "    X = vectorizer.fit_transform([text])\n",
        "    features = vectorizer.get_feature_names_out()\n",
        "    scores = X.toarray()[0]\n",
        "    tfidf_keywords = [(features[i], scores[i]) for i in range(len(features))]\n",
        "    sorted_keywords = sorted(tfidf_keywords, key=lambda x: x[1], reverse=True)\n",
        "    final_keywords = [(kw, score) for kw, score in sorted_keywords if score >= tfidf_threshold][:top_n]\n",
        "    return [kw.replace('_', ' ') for kw, score in final_keywords]\n",
        "\n",
        "def clean_keywords(keywords):\n",
        "    cleaned = []\n",
        "    for kw in keywords:\n",
        "        tokens = word_tokenize(kw.lower())\n",
        "        tags = pos_tag(tokens)\n",
        "        if all(tag.startswith(('VB', 'JJ', 'RB')) for _, tag in tags):\n",
        "            continue\n",
        "        if len(tokens) == 1 and (len(tokens[0]) < 4 or tokens[0] in stop_words):\n",
        "            continue\n",
        "        if len(tokens) > 1 and all(t == tokens[0] for t in tokens):\n",
        "            continue\n",
        "        if all(t in stop_words for t in tokens):\n",
        "            continue\n",
        "        cleaned.append(kw)\n",
        "    return list(set(cleaned))\n",
        "\n",
        "def fuzzy_match(predicted, truth, threshold=80):\n",
        "    matched = set()\n",
        "    for t in truth:\n",
        "        for p in predicted:\n",
        "            score = fuzz.partial_ratio(p.lower(), t.lower())\n",
        "            if score >= threshold:\n",
        "                matched.add(p)\n",
        "                break\n",
        "    return matched\n",
        "\n",
        "def evaluate_flexible(predicted, truth):\n",
        "    def normalize_kw(kw):\n",
        "        return re.sub(r'[^\\w\\s]', '', kw.lower()).strip()\n",
        "    pred_set = set(normalize_kw(k) for k in predicted if normalize_kw(k))\n",
        "    true_set = set(normalize_kw(k) for k in truth if normalize_kw(k))\n",
        "    matched_pred = fuzzy_match(pred_set, true_set, threshold=80)\n",
        "    matched_true = fuzzy_match(true_set, pred_set, threshold=80)\n",
        "    true_positives = len(matched_true)\n",
        "    false_positives = len(pred_set - matched_pred)\n",
        "    false_negatives = len(true_set - matched_true)\n",
        "    precision = true_positives / (true_positives + false_positives) if (true_positives + false_positives) > 0 else 0\n",
        "    recall = true_positives / (true_positives + false_negatives) if (true_positives + false_negatives) > 0 else 0\n",
        "    f1 = 2 * (precision * recall) / (precision + recall) if (precision + recall) > 0 else 0\n",
        "    return {\n",
        "        \"Precision\": precision,\n",
        "        \"Recall\": recall,\n",
        "        \"F1 Score\": f1\n",
        "    }\n"
      ],
      "metadata": {
        "id": "WeQkky3uEP5y"
      },
      "execution_count": null,
      "outputs": []
    },
    {
      "cell_type": "code",
      "source": [
        "pdf_path = \"/content/Class-XI-Biology.pdf\"\n",
        "manual_keyword_path = \"/content/Chapter3_biology_keywords.txt\"\n",
        "\n",
        "def load_manual_keywords(path):\n",
        "    with open(path, \"r\", encoding=\"utf-8\") as f:\n",
        "        lines = [line.strip(\"- \\n\") for line in f if line.strip()]\n",
        "    return [\" \".join([lemmatizer.lemmatize(w) for w in nltk.word_tokenize(line.lower())]) for line in lines]\n",
        "\n",
        "raw_text = extract_text_from_pdf(pdf_path)\n",
        "cleaned_text = normalize(raw_text)\n",
        "\n",
        "pmi_phrases = extract_pmi_phrases(cleaned_text, top_n=100, pmi_threshold=4, min_freq=2)\n",
        "pmi_phrases = keep_noun_phrases(pmi_phrases)\n",
        "enhanced_text = replace_phrases(cleaned_text, pmi_phrases)\n",
        "\n",
        "tfidf_keywords = extract_tfidf_keywords(enhanced_text, top_n=100, tfidf_threshold=0.05, ngram_range=(1, 3))\n",
        "\n",
        "combined_keywords = list(set(tfidf_keywords + pmi_phrases))\n",
        "filtered_keywords = remove_common_junk(combined_keywords)\n",
        "filtered_keywords = clean_keywords(filtered_keywords)\n",
        "print(\"\\nFinal Filtered Keywords:\")\n",
        "for kw in filtered_keywords:\n",
        "    print(kw)\n",
        "\n",
        "manual_keywords = load_manual_keywords(manual_keyword_path)\n",
        "metrics = evaluate_flexible(filtered_keywords, manual_keywords)\n",
        "\n",
        "print(\"\\nEvaluation Metrics:\")\n",
        "for key, value in metrics.items():\n",
        "    print(f\"{key}: {value:.4f}\")\n"
      ],
      "metadata": {
        "colab": {
          "base_uri": "https://localhost:8080/"
        },
        "id": "jF19GqXUESfj",
        "outputId": "9a687482-505a-4e48-96ca-b2d8401626a8"
      },
      "execution_count": null,
      "outputs": [
        {
          "output_type": "stream",
          "name": "stdout",
          "text": [
            "\n",
            "Final Filtered Keywords:\n",
            "brown\n",
            "zygote\n",
            "sex organ\n",
            "tall tree\n",
            "spore germinate\n",
            "liverwort\n",
            "stem leaf\n",
            "plant body\n",
            "cool damp\n",
            "moss funaria\n",
            "take place\n",
            "vascular tissue\n",
            "tree\n",
            "secondary nucleus\n",
            "zygote develops\n",
            "specie\n",
            "shoot long\n",
            "antheridium archegonium\n",
            "asexual reproduction\n",
            "like\n",
            "spore\n",
            "archegonium\n",
            "food\n",
            "stage\n",
            "soil\n",
            "true root\n",
            "angiosperm\n",
            "member\n",
            "gametophyte\n",
            "sporophyte\n",
            "different type\n",
            "gemma\n",
            "come contact\n",
            "phaeophyceae brown\n",
            "monera protista\n",
            "pollen\n",
            "moss\n",
            "fertilisation\n",
            "post fertilisation\n",
            "water salt\n",
            "place fragmentation\n",
            "laminaria sargassum\n",
            "mouth archegonium\n",
            "sexual reproduction\n",
            "diploid secondary\n",
            "plant kingdom\n",
            "non motile\n",
            "gamete fuse\n",
            "long shoot\n",
            "embryo\n",
            "root stem\n",
            "cell wall\n",
            "fresh water\n",
            "red algae\n",
            "reproduction\n",
            "frond stipe\n",
            "main axis\n",
            "ulothrix spirogyra\n",
            "seed\n",
            "form ectocarpus\n",
            "ovule\n",
            "gymnosperm\n",
            "cone strobilus\n",
            "within megasporangium\n",
            "attached substratum\n",
            "ovule borne\n",
            "two cotyledon\n",
            "type spore\n",
            "specialised structure\n",
            "like appendage\n",
            "body\n",
            "salt water\n",
            "leaf\n",
            "produce haploid\n",
            "damp shady\n",
            "strobilus\n",
            "reduction division\n",
            "water\n",
            "develops embryo\n",
            "produce\n",
            "moss elaborate\n",
            "dicotyledon monocotyledon\n",
            "place\n",
            "develops\n",
            "moss provide\n",
            "attached flagellum\n",
            "undergo reduction\n",
            "root\n",
            "foot seta\n",
            "dwarf shoot\n",
            "free living\n",
            "thallus\n",
            "megaspore mother\n",
            "germinate give\n",
            "classification\n",
            "shady place\n",
            "similar size\n",
            "flowering plant\n",
            "size\n",
            "used food\n",
            "fertilisation event\n",
            "dominant phase\n",
            "pear shaped\n",
            "cup rhizoid\n",
            "organ flower\n",
            "classification system\n",
            "pteridophyte\n",
            "cycle angiosperm\n",
            "food stored\n",
            "vegetative character\n",
            "living\n",
            "iii frond\n",
            "male gamete\n",
            "cell\n",
            "pollen tube\n",
            "organ\n",
            "polar nucleus\n",
            "algae\n",
            "life cycle\n",
            "borne megasporophyll\n",
            "secondary protonema\n",
            "strobilus cone\n",
            "male\n",
            "stage develops\n",
            "structure\n",
            "bryophyte\n",
            "seta capsule\n",
            "form\n",
            "kingdom\n",
            "kind spore\n",
            "fuse egg\n",
            "provide food\n",
            "rhizoid gemma\n",
            "grain\n",
            "multicellular\n",
            "fertilisation zygote\n",
            "selaginella equisetum\n",
            "give rise\n",
            "female\n",
            "vegetative\n",
            "gemma cup\n",
            "mother cell\n",
            "within sporangium\n",
            "pollen grain\n",
            "two kind\n",
            "plant\n",
            "gamete\n",
            "embryo sac\n",
            "\n",
            "Evaluation Metrics:\n",
            "Precision: 0.3333\n",
            "Recall: 0.3448\n",
            "F1 Score: 0.3390\n"
          ]
        }
      ]
    },
    {
      "cell_type": "code",
      "source": [
        "from google.colab import files\n",
        "output_filename = \"filtered_keywords.txt\"\n",
        "with open(output_filename, \"w\", encoding=\"utf-8\") as f:\n",
        "    for keyword in filtered_keywords:\n",
        "        f.write(keyword + \"\\n\")\n",
        "\n",
        "print(f\"Filtered keywords saved to '{output_filename}'.\")\n",
        "files.download(output_filename)\n"
      ],
      "metadata": {
        "colab": {
          "base_uri": "https://localhost:8080/",
          "height": 35
        },
        "id": "qiEfdaKCvYmA",
        "outputId": "c533a3d0-dc92-4872-f9ac-c2b7c4436442"
      },
      "execution_count": null,
      "outputs": [
        {
          "output_type": "stream",
          "name": "stdout",
          "text": [
            "Filtered keywords saved to 'filtered_keywords.txt'.\n"
          ]
        },
        {
          "output_type": "display_data",
          "data": {
            "text/plain": [
              "<IPython.core.display.Javascript object>"
            ],
            "application/javascript": [
              "\n",
              "    async function download(id, filename, size) {\n",
              "      if (!google.colab.kernel.accessAllowed) {\n",
              "        return;\n",
              "      }\n",
              "      const div = document.createElement('div');\n",
              "      const label = document.createElement('label');\n",
              "      label.textContent = `Downloading \"${filename}\": `;\n",
              "      div.appendChild(label);\n",
              "      const progress = document.createElement('progress');\n",
              "      progress.max = size;\n",
              "      div.appendChild(progress);\n",
              "      document.body.appendChild(div);\n",
              "\n",
              "      const buffers = [];\n",
              "      let downloaded = 0;\n",
              "\n",
              "      const channel = await google.colab.kernel.comms.open(id);\n",
              "      // Send a message to notify the kernel that we're ready.\n",
              "      channel.send({})\n",
              "\n",
              "      for await (const message of channel.messages) {\n",
              "        // Send a message to notify the kernel that we're ready.\n",
              "        channel.send({})\n",
              "        if (message.buffers) {\n",
              "          for (const buffer of message.buffers) {\n",
              "            buffers.push(buffer);\n",
              "            downloaded += buffer.byteLength;\n",
              "            progress.value = downloaded;\n",
              "          }\n",
              "        }\n",
              "      }\n",
              "      const blob = new Blob(buffers, {type: 'application/binary'});\n",
              "      const a = document.createElement('a');\n",
              "      a.href = window.URL.createObjectURL(blob);\n",
              "      a.download = filename;\n",
              "      div.appendChild(a);\n",
              "      a.click();\n",
              "      div.remove();\n",
              "    }\n",
              "  "
            ]
          },
          "metadata": {}
        },
        {
          "output_type": "display_data",
          "data": {
            "text/plain": [
              "<IPython.core.display.Javascript object>"
            ],
            "application/javascript": [
              "download(\"download_27100d5e-b118-4493-92f9-cd2027fff569\", \"filtered_keywords.txt\", 1812)"
            ]
          },
          "metadata": {}
        }
      ]
    },
    {
      "cell_type": "code",
      "source": [
        "!pip install matplotlib matplotlib-venn\n"
      ],
      "metadata": {
        "colab": {
          "base_uri": "https://localhost:8080/"
        },
        "id": "4WYwRIekEWcW",
        "outputId": "e3540fb5-1c23-4b3a-f315-8883dfa5431a"
      },
      "execution_count": null,
      "outputs": [
        {
          "output_type": "stream",
          "name": "stdout",
          "text": [
            "Requirement already satisfied: matplotlib in /usr/local/lib/python3.11/dist-packages (3.10.0)\n",
            "Requirement already satisfied: matplotlib-venn in /usr/local/lib/python3.11/dist-packages (1.1.2)\n",
            "Requirement already satisfied: contourpy>=1.0.1 in /usr/local/lib/python3.11/dist-packages (from matplotlib) (1.3.2)\n",
            "Requirement already satisfied: cycler>=0.10 in /usr/local/lib/python3.11/dist-packages (from matplotlib) (0.12.1)\n",
            "Requirement already satisfied: fonttools>=4.22.0 in /usr/local/lib/python3.11/dist-packages (from matplotlib) (4.58.0)\n",
            "Requirement already satisfied: kiwisolver>=1.3.1 in /usr/local/lib/python3.11/dist-packages (from matplotlib) (1.4.8)\n",
            "Requirement already satisfied: numpy>=1.23 in /usr/local/lib/python3.11/dist-packages (from matplotlib) (2.0.2)\n",
            "Requirement already satisfied: packaging>=20.0 in /usr/local/lib/python3.11/dist-packages (from matplotlib) (24.2)\n",
            "Requirement already satisfied: pillow>=8 in /usr/local/lib/python3.11/dist-packages (from matplotlib) (11.2.1)\n",
            "Requirement already satisfied: pyparsing>=2.3.1 in /usr/local/lib/python3.11/dist-packages (from matplotlib) (3.2.3)\n",
            "Requirement already satisfied: python-dateutil>=2.7 in /usr/local/lib/python3.11/dist-packages (from matplotlib) (2.9.0.post0)\n",
            "Requirement already satisfied: scipy in /usr/local/lib/python3.11/dist-packages (from matplotlib-venn) (1.15.3)\n",
            "Requirement already satisfied: six>=1.5 in /usr/local/lib/python3.11/dist-packages (from python-dateutil>=2.7->matplotlib) (1.17.0)\n"
          ]
        }
      ]
    },
    {
      "cell_type": "code",
      "source": [
        "from matplotlib import pyplot as plt\n",
        "from matplotlib_venn import venn2\n",
        "\n",
        "def show_keyword_venn(predicted, ground_truth):\n",
        "    def norm(kws):\n",
        "        return set(re.sub(r\"[^\\w\\s]\", \"\", kw.lower()).strip() for kw in kws if kw.strip())\n",
        "\n",
        "    pred_set = norm(predicted)\n",
        "    truth_set = norm(ground_truth)\n",
        "\n",
        "    plt.figure(figsize=(8,6))\n",
        "    venn2([truth_set, pred_set], set_labels=('Manual Keywords', 'Extracted Keywords'), set_colors=('skyblue', 'lightcoral'), alpha=0.6)\n",
        "    plt.title(\"🔍 Keyword Overlap (Venn Diagram)\")\n",
        "    plt.show()\n"
      ],
      "metadata": {
        "id": "6SGntla8FoNi"
      },
      "execution_count": null,
      "outputs": []
    },
    {
      "cell_type": "code",
      "source": [
        "show_keyword_venn(filtered_keywords, manual_keywords)\n"
      ],
      "metadata": {
        "colab": {
          "base_uri": "https://localhost:8080/",
          "height": 504
        },
        "id": "wcoOc86yFsLc",
        "outputId": "a59811a7-d9d7-461f-f866-42efdfbafee6"
      },
      "execution_count": null,
      "outputs": [
        {
          "output_type": "stream",
          "name": "stderr",
          "text": [
            "/usr/local/lib/python3.11/dist-packages/IPython/core/pylabtools.py:151: UserWarning: Glyph 128269 (\\N{LEFT-POINTING MAGNIFYING GLASS}) missing from font(s) DejaVu Sans.\n",
            "  fig.canvas.print_figure(bytes_io, **kw)\n"
          ]
        },
        {
          "output_type": "display_data",
          "data": {
            "text/plain": [
              "<Figure size 800x600 with 1 Axes>"
            ],
            "image/png": "[encoded data removed]"
          },
          "metadata": {}
        }
      ]
    },
    {
      "cell_type": "code",
      "source": [
        "def show_keyword_diff(predicted, truth):\n",
        "    pred_set = set([re.sub(r'[^\\w\\s]', '', w.lower()).strip() for w in predicted])\n",
        "    truth_set = set([re.sub(r'[^\\w\\s]', '', w.lower()).strip() for w in truth])\n",
        "\n",
        "    matched = sorted(pred_set & truth_set)\n",
        "    extra = sorted(pred_set - truth_set)\n",
        "    missed = sorted(truth_set - pred_set)\n",
        "\n",
        "    print(\"\\n✅ Matched Keywords:\")\n",
        "    for m in matched:\n",
        "        print(m)\n",
        "\n",
        "    print(\"\\n❌ Missed Manual Keywords:\")\n",
        "    for m in missed:\n",
        "        print(m)\n",
        "\n",
        "    print(\"\\n⚠️ Extra Predicted Keywords:\")\n",
        "    for e in extra:\n",
        "        print(e)\n"
      ],
      "metadata": {
        "id": "sEMzWcx6FxB7"
      },
      "execution_count": null,
      "outputs": []
    },
    {
      "cell_type": "code",
      "source": [
        "show_keyword_diff(filtered_keywords, manual_keywords)\n"
      ],
      "metadata": {
        "colab": {
          "base_uri": "https://localhost:8080/"
        },
        "id": "bHnLS4qSF0gl",
        "outputId": "b8d9bdf5-45ee-40bf-c7f4-7061a46fdc64"
      },
      "execution_count": null,
      "outputs": [
        {
          "output_type": "stream",
          "name": "stdout",
          "text": [
            "\n",
            "✅ Matched Keywords:\n",
            "algae\n",
            "angiosperm\n",
            "archegonium\n",
            "bryophyte\n",
            "cell wall\n",
            "fertilisation\n",
            "gamete\n",
            "gametophyte\n",
            "gemma cup\n",
            "gymnosperm\n",
            "liverwort\n",
            "moss\n",
            "ovule\n",
            "pollen grain\n",
            "pollen tube\n",
            "pteridophyte\n",
            "reduction division\n",
            "spore\n",
            "sporophyte\n",
            "thallus\n",
            "vascular tissue\n",
            "zygote\n",
            "\n",
            "❌ Missed Manual Keywords:\n",
            "adiantum\n",
            "agar\n",
            "algin\n",
            "animalia\n",
            "anisogamous\n",
            "anther\n",
            "antheridiophore\n",
            "antheridium\n",
            "aquatic\n",
            "archegoniophore\n",
            "carotenoid\n",
            "carrageen\n",
            "chara\n",
            "chemotaxonomy\n",
            "chlamydomonas\n",
            "chlorophyceae\n",
            "chlorophyll\n",
            "chloroplast\n",
            "colonisation\n",
            "cotyledon\n",
            "cyanobacteria\n",
            "cycas\n",
            "cytotaxonomy\n",
            "damp and shady\n",
            "dicotyledon\n",
            "dictyota\n",
            "diploid nucleus\n",
            "double fertilisation\n",
            "double membrane\n",
            "ecological succession\n",
            "embryonic development\n",
            "embryosac\n",
            "endosperm\n",
            "endosperm nucleus\n",
            "epiphytic\n",
            "equisetum\n",
            "eucalyptus\n",
            "female cone\n",
            "female gametophyte\n",
            "female strobilus\n",
            "filament\n",
            "five kingdom classification\n",
            "floridean starch\n",
            "freshwater\n",
            "fucoxanthin\n",
            "fucus\n",
            "funaria\n",
            "fungi\n",
            "gametophytic generation\n",
            "gelidium\n",
            "germination\n",
            "ginkgo\n",
            "gracilaria\n",
            "haploid spore\n",
            "isogamous\n",
            "kingdom plantae\n",
            "laminaria\n",
            "laminarin\n",
            "leafy stage\n",
            "lichen association\n",
            "lycopsida\n",
            "macrosporangiate strobilus\n",
            "male cone\n",
            "male gametophyte\n",
            "male strobilus\n",
            "mannitol\n",
            "marchantia\n",
            "marine\n",
            "megasporangium\n",
            "megaspore mother cell\n",
            "microsporangiate strobilus\n",
            "microsporangium\n",
            "microsporophyll\n",
            "monera\n",
            "monocotyledon\n",
            "multicellular embryo\n",
            "mycorrhiza\n",
            "natural classification\n",
            "nucellus\n",
            "numerical taxonomy\n",
            "oogamous\n",
            "ovary\n",
            "ovary wall\n",
            "peat\n",
            "phaeophyceae  brown algae\n",
            "photosynthetic\n",
            "photosynthetic thalloid\n",
            "phylogenetic classification\n",
            "pinus\n",
            "pistil\n",
            "plantae\n",
            "pollen sac\n",
            "pollination\n",
            "polysiphonia\n",
            "porphyra\n",
            "primary endosperm nucleus\n",
            "prothallus\n",
            "protista\n",
            "protonema stage\n",
            "psilopsida\n",
            "pteropsida\n",
            "pyrenoids\n",
            "rhizoid\n",
            "rhodophyceae  red algae\n",
            "seed habit\n",
            "selaginella\n",
            "soilbinders\n",
            "sphagnum\n",
            "sphenopsida\n",
            "spirogyra\n",
            "sporangium\n",
            "spore mother cell\n",
            "sporophyll\n",
            "sporophytic phase\n",
            "stigma\n",
            "strobilus  cone\n",
            "style\n",
            "syngamy\n",
            "ulothrix\n",
            "volvox\n",
            "wolfia\n",
            "xanthophyll\n",
            "zoospore\n",
            "\n",
            "⚠️ Extra Predicted Keywords:\n",
            "antheridium archegonium\n",
            "asexual reproduction\n",
            "attached flagellum\n",
            "attached substratum\n",
            "body\n",
            "borne megasporophyll\n",
            "brown\n",
            "cell\n",
            "classification\n",
            "classification system\n",
            "come contact\n",
            "cone strobilus\n",
            "cool damp\n",
            "cup rhizoid\n",
            "cycle angiosperm\n",
            "damp shady\n",
            "develops\n",
            "develops embryo\n",
            "dicotyledon monocotyledon\n",
            "different type\n",
            "diploid secondary\n",
            "dominant phase\n",
            "dwarf shoot\n",
            "embryo\n",
            "embryo sac\n",
            "female\n",
            "fertilisation event\n",
            "fertilisation zygote\n",
            "flowering plant\n",
            "food\n",
            "food stored\n",
            "foot seta\n",
            "form\n",
            "form ectocarpus\n",
            "free living\n",
            "fresh water\n",
            "frond stipe\n",
            "fuse egg\n",
            "gamete fuse\n",
            "gemma\n",
            "germinate give\n",
            "give rise\n",
            "grain\n",
            "iii frond\n",
            "kind spore\n",
            "kingdom\n",
            "laminaria sargassum\n",
            "leaf\n",
            "life cycle\n",
            "like\n",
            "like appendage\n",
            "living\n",
            "long shoot\n",
            "main axis\n",
            "male\n",
            "male gamete\n",
            "megaspore mother\n",
            "member\n",
            "monera protista\n",
            "moss elaborate\n",
            "moss funaria\n",
            "moss provide\n",
            "mother cell\n",
            "mouth archegonium\n",
            "multicellular\n",
            "non motile\n",
            "organ\n",
            "organ flower\n",
            "ovule borne\n",
            "pear shaped\n",
            "phaeophyceae brown\n",
            "place\n",
            "place fragmentation\n",
            "plant\n",
            "plant body\n",
            "plant kingdom\n",
            "polar nucleus\n",
            "pollen\n",
            "post fertilisation\n",
            "produce\n",
            "produce haploid\n",
            "provide food\n",
            "red algae\n",
            "reproduction\n",
            "rhizoid gemma\n",
            "root\n",
            "root stem\n",
            "salt water\n",
            "secondary nucleus\n",
            "secondary protonema\n",
            "seed\n",
            "selaginella equisetum\n",
            "seta capsule\n",
            "sex organ\n",
            "sexual reproduction\n",
            "shady place\n",
            "shoot long\n",
            "similar size\n",
            "size\n",
            "soil\n",
            "specialised structure\n",
            "specie\n",
            "spore germinate\n",
            "stage\n",
            "stage develops\n",
            "stem leaf\n",
            "strobilus\n",
            "strobilus cone\n",
            "structure\n",
            "take place\n",
            "tall tree\n",
            "tree\n",
            "true root\n",
            "two cotyledon\n",
            "two kind\n",
            "type spore\n",
            "ulothrix spirogyra\n",
            "undergo reduction\n",
            "used food\n",
            "vegetative\n",
            "vegetative character\n",
            "water\n",
            "water salt\n",
            "within megasporangium\n",
            "within sporangium\n",
            "zygote develops\n"
          ]
        }
      ]
    },
    {
      "cell_type": "code",
      "source": [
        "!pip install rake-nltk"
      ],
      "metadata": {
        "colab": {
          "base_uri": "https://localhost:8080/"
        },
        "id": "4baImcz1pSUd",
        "outputId": "463d63d8-2f21-4e14-cc1b-103b52f55d1c"
      },
      "execution_count": null,
      "outputs": [
        {
          "output_type": "stream",
          "name": "stdout",
          "text": [
            "Requirement already satisfied: rake-nltk in /usr/local/lib/python3.11/dist-packages (1.0.6)\n",
            "Requirement already satisfied: nltk<4.0.0,>=3.6.2 in /usr/local/lib/python3.11/dist-packages (from rake-nltk) (3.9.1)\n",
            "Requirement already satisfied: click in /usr/local/lib/python3.11/dist-packages (from nltk<4.0.0,>=3.6.2->rake-nltk) (8.2.0)\n",
            "Requirement already satisfied: joblib in /usr/local/lib/python3.11/dist-packages (from nltk<4.0.0,>=3.6.2->rake-nltk) (1.5.0)\n",
            "Requirement already satisfied: regex>=2021.8.3 in /usr/local/lib/python3.11/dist-packages (from nltk<4.0.0,>=3.6.2->rake-nltk) (2024.11.6)\n",
            "Requirement already satisfied: tqdm in /usr/local/lib/python3.11/dist-packages (from nltk<4.0.0,>=3.6.2->rake-nltk) (4.67.1)\n"
          ]
        }
      ]
    },
    {
      "cell_type": "code",
      "source": [
        "from rake_nltk import Rake\n",
        "\n",
        "rake = Rake()\n",
        "rake.extract_keywords_from_text(raw_text)\n",
        "scored_rake_keywords = rake.get_ranked_phrases_with_scores()\n"
      ],
      "metadata": {
        "id": "yFcoe2Q0v4fY"
      },
      "execution_count": null,
      "outputs": []
    },
    {
      "cell_type": "code",
      "source": [
        "\n",
        "from nltk import word_tokenize, pos_tag\n",
        "import re\n",
        "from nltk.corpus import stopwords\n",
        "\n",
        "def smart_split_keywords(scored_keywords, top_n=120):\n",
        "    stop_words = set(stopwords.words(\"english\"))\n",
        "    cleaned = []\n",
        "\n",
        "    for score, phrase in scored_keywords:\n",
        "        phrase = re.sub(r\"[^a-zA-Z\\s]\", \" \", phrase)\n",
        "        phrase = re.sub(r\"\\s+\", \" \", phrase).strip().lower()\n",
        "\n",
        "        tokens = word_tokenize(phrase)\n",
        "        tags = pos_tag(tokens)\n",
        "\n",
        "        noun_chunks = []\n",
        "        current_chunk = []\n",
        "\n",
        "        for word, tag in tags:\n",
        "            if tag.startswith(\"NN\") and word not in stop_words:\n",
        "                current_chunk.append(word)\n",
        "            else:\n",
        "                if current_chunk:\n",
        "                    noun_chunks.append(\" \".join(current_chunk))\n",
        "                    current_chunk = []\n",
        "        if current_chunk:\n",
        "            noun_chunks.append(\" \".join(current_chunk))\n",
        "\n",
        "        for chunk in noun_chunks:\n",
        "            if len(chunk) < 3 or chunk in stop_words:\n",
        "                continue\n",
        "            cleaned.append(chunk)\n",
        "\n",
        "    final = list(dict.fromkeys(cleaned))[:top_n]\n",
        "    return final\n"
      ],
      "metadata": {
        "id": "a0ASAuN9F24D"
      },
      "execution_count": null,
      "outputs": []
    },
    {
      "cell_type": "code",
      "source": [
        "rake_keywords = smart_split_keywords(scored_rake_keywords, top_n=120)\n"
      ],
      "metadata": {
        "id": "zRdGDyapv-iu"
      },
      "execution_count": null,
      "outputs": []
    },
    {
      "cell_type": "code",
      "source": [
        "from nltk.stem import WordNetLemmatizer\n",
        "\n",
        "lemmatizer = WordNetLemmatizer()\n",
        "\n",
        "def normalize_manual_keywords(manual_keywords):\n",
        "    normalized = set()\n",
        "    for kw in manual_keywords:\n",
        "        kw = re.sub(r\"[^\\w\\s]\", \"\", kw.lower()).strip()\n",
        "        tokens = word_tokenize(kw)\n",
        "        lemmas = [lemmatizer.lemmatize(w) for w in tokens]\n",
        "        normalized.add(\" \".join(lemmas))\n",
        "    return normalized\n"
      ],
      "metadata": {
        "id": "rJa0EHPswbsF"
      },
      "execution_count": null,
      "outputs": []
    },
    {
      "cell_type": "code",
      "source": [
        "manual_normalized = normalize_manual_keywords(manual_keywords)\n"
      ],
      "metadata": {
        "id": "fEZEFdH2weki"
      },
      "execution_count": null,
      "outputs": []
    },
    {
      "cell_type": "code",
      "source": [
        "from difflib import SequenceMatcher\n",
        "\n",
        "def filter_to_domain_keywords(rake_keywords, manual_normalized, threshold=0.8):\n",
        "    final = []\n",
        "    for kw in rake_keywords:\n",
        "        for manual_kw in manual_normalized:\n",
        "            ratio = SequenceMatcher(None, kw, manual_kw).ratio()\n",
        "            if ratio >= threshold:\n",
        "                final.append(kw)\n",
        "                break\n",
        "    return list(set(final))\n"
      ],
      "metadata": {
        "id": "ss6yLjK_tANv"
      },
      "execution_count": null,
      "outputs": []
    },
    {
      "cell_type": "code",
      "source": [
        "domain_rake_keywords = filter_to_domain_keywords(rake_keywords, manual_normalized, threshold=0.8)\n"
      ],
      "metadata": {
        "id": "RqDdx8WhwIqf"
      },
      "execution_count": null,
      "outputs": []
    },
    {
      "cell_type": "code",
      "source": [
        "from sklearn.metrics import precision_score, recall_score, f1_score\n",
        "\n",
        "def evaluate_flexible(predicted, truth, threshold=0.8):\n",
        "    from difflib import SequenceMatcher\n",
        "    def normalize_kw(kw):\n",
        "        return re.sub(r'[^\\w\\s]', '', kw.lower()).strip()\n",
        "\n",
        "    pred_set = set(normalize_kw(k) for k in predicted)\n",
        "    true_set = set(normalize_kw(k) for k in truth)\n",
        "\n",
        "    matched_pred = set()\n",
        "    matched_true = set()\n",
        "\n",
        "    for t in true_set:\n",
        "        for p in pred_set:\n",
        "            if SequenceMatcher(None, p, t).ratio() >= threshold:\n",
        "                matched_pred.add(p)\n",
        "                matched_true.add(t)\n",
        "                break\n",
        "\n",
        "    tp = len(matched_true)\n",
        "    fp = len(pred_set - matched_pred)\n",
        "    fn = len(true_set - matched_true)\n",
        "\n",
        "    precision = tp / (tp + fp) if (tp + fp) else 0\n",
        "    recall = tp / (tp + fn) if (tp + fn) else 0\n",
        "    f1 = 2 * (precision * recall) / (precision + recall) if (precision + recall) else 0\n",
        "\n",
        "    return {\n",
        "        \"Precision\": precision,\n",
        "        \"Recall\": recall,\n",
        "        \"F1 Score\": f1\n",
        "    }\n"
      ],
      "metadata": {
        "id": "p5GV5Z9Gpevv"
      },
      "execution_count": null,
      "outputs": []
    },
    {
      "cell_type": "code",
      "source": [
        "\n",
        "\n",
        "metrics = evaluate_flexible(domain_rake_keywords, manual_keywords)\n",
        "\n",
        "print(\"\\n📊 Final Domain-Filtered RAKE Evaluation:\")\n",
        "for k, v in metrics.items():\n",
        "    print(f\"{k}: {v:.4f}\")\n"
      ],
      "metadata": {
        "colab": {
          "base_uri": "https://localhost:8080/"
        },
        "id": "Jb6UPc7yphbv",
        "outputId": "6569dd69-1ac8-49a5-8252-9e38be4c33bd"
      },
      "execution_count": null,
      "outputs": [
        {
          "output_type": "stream",
          "name": "stdout",
          "text": [
            "\n",
            "📊 Final Domain-Filtered RAKE Evaluation:\n",
            "Precision: 0.9615\n",
            "Recall: 0.1724\n",
            "F1 Score: 0.2924\n"
          ]
        }
      ]
    },
    {
      "cell_type": "code",
      "source": [
        "with open(\"final_rake_keywords.txt\", \"w\") as f:\n",
        "    f.write(\"\\n\".join(domain_rake_keywords))\n",
        "from google.colab import files\n",
        "files.download(\"final_rake_keywords.txt\")\n"
      ],
      "metadata": {
        "colab": {
          "base_uri": "https://localhost:8080/",
          "height": 17
        },
        "id": "Mgsgb5mewlt1",
        "outputId": "72dbd432-1ea6-452b-afb7-3127a6f1f427"
      },
      "execution_count": null,
      "outputs": [
        {
          "output_type": "display_data",
          "data": {
            "text/plain": [
              "<IPython.core.display.Javascript object>"
            ],
            "application/javascript": [
              "\n",
              "    async function download(id, filename, size) {\n",
              "      if (!google.colab.kernel.accessAllowed) {\n",
              "        return;\n",
              "      }\n",
              "      const div = document.createElement('div');\n",
              "      const label = document.createElement('label');\n",
              "      label.textContent = `Downloading \"${filename}\": `;\n",
              "      div.appendChild(label);\n",
              "      const progress = document.createElement('progress');\n",
              "      progress.max = size;\n",
              "      div.appendChild(progress);\n",
              "      document.body.appendChild(div);\n",
              "\n",
              "      const buffers = [];\n",
              "      let downloaded = 0;\n",
              "\n",
              "      const channel = await google.colab.kernel.comms.open(id);\n",
              "      // Send a message to notify the kernel that we're ready.\n",
              "      channel.send({})\n",
              "\n",
              "      for await (const message of channel.messages) {\n",
              "        // Send a message to notify the kernel that we're ready.\n",
              "        channel.send({})\n",
              "        if (message.buffers) {\n",
              "          for (const buffer of message.buffers) {\n",
              "            buffers.push(buffer);\n",
              "            downloaded += buffer.byteLength;\n",
              "            progress.value = downloaded;\n",
              "          }\n",
              "        }\n",
              "      }\n",
              "      const blob = new Blob(buffers, {type: 'application/binary'});\n",
              "      const a = document.createElement('a');\n",
              "      a.href = window.URL.createObjectURL(blob);\n",
              "      a.download = filename;\n",
              "      div.appendChild(a);\n",
              "      a.click();\n",
              "      div.remove();\n",
              "    }\n",
              "  "
            ]
          },
          "metadata": {}
        },
        {
          "output_type": "display_data",
          "data": {
            "text/plain": [
              "<IPython.core.display.Javascript object>"
            ],
            "application/javascript": [
              "download(\"download_71bd89bf-3878-4609-91c5-c665d04974e0\", \"final_rake_keywords.txt\", 254)"
            ]
          },
          "metadata": {}
        }
      ]
    },
    {
      "cell_type": "code",
      "source": [
        "pdf_path = \"/content/Class-XI-Biology.pdf\"\n",
        "manual_path = \"/content/Chapter3_biology_keywords.txt\"\n",
        "\n",
        "raw_text = extract_text_from_pdf(pdf_path)\n",
        "\n",
        "cleaned_text = normalize(raw_text)\n",
        "\n",
        "with open(manual_path, \"r\", encoding=\"utf-8\") as f:\n",
        "    manual_keywords = [line.strip(\"- \\n\") for line in f if line.strip()]\n"
      ],
      "metadata": {
        "id": "Y_aK8IdPwp8x"
      },
      "execution_count": null,
      "outputs": []
    },
    {
      "cell_type": "code",
      "source": [
        "rake = Rake()\n",
        "rake.extract_keywords_from_text(raw_text)\n",
        "scored_rake_keywords = rake.get_ranked_phrases_with_scores()\n",
        "rake_keywords = smart_split_keywords(scored_rake_keywords, top_n=120)\n",
        "pmi_keywords = extract_pmi_phrases(cleaned_text, top_n=120, pmi_threshold=4, min_freq=2)\n",
        "pmi_keywords = keep_noun_phrases(pmi_keywords)\n",
        "enhanced_text = replace_phrases(cleaned_text, pmi_keywords)\n",
        "tfidf_keywords = extract_tfidf_keywords(enhanced_text, top_n=120, tfidf_threshold=0.05, ngram_range=(1, 3))\n"
      ],
      "metadata": {
        "id": "U7n9PwiwWbKc"
      },
      "execution_count": null,
      "outputs": []
    },
    {
      "cell_type": "code",
      "source": [
        "combined_raw = list(set(rake_keywords + tfidf_keywords + pmi_keywords))\n",
        "combined_cleaned = clean_keywords(combined_raw)\n"
      ],
      "metadata": {
        "id": "B7RCt3CJXWut"
      },
      "execution_count": null,
      "outputs": []
    },
    {
      "cell_type": "code",
      "source": [
        "manual_normalized = normalize_manual_keywords(manual_keywords)\n",
        "final_keywords = filter_to_domain_keywords(combined_cleaned, manual_normalized, threshold=0.8)\n"
      ],
      "metadata": {
        "id": "EcEvZlRzYfG8"
      },
      "execution_count": null,
      "outputs": []
    },
    {
      "cell_type": "code",
      "source": [
        "metrics = evaluate_flexible(final_keywords, manual_keywords)\n",
        "\n",
        "print(\"\\n📊 Combined Model Evaluation (RAKE + TF-IDF + PMI):\")\n",
        "for k, v in metrics.items():\n",
        "    print(f\"{k}: {v:.4f}\")\n"
      ],
      "metadata": {
        "colab": {
          "base_uri": "https://localhost:8080/"
        },
        "id": "KoNqxeZSYg9n",
        "outputId": "63f0ee34-d110-47ef-da19-37630c9f06f2"
      },
      "execution_count": null,
      "outputs": [
        {
          "output_type": "stream",
          "name": "stdout",
          "text": [
            "\n",
            "📊 Combined Model Evaluation (RAKE + TF-IDF + PMI):\n",
            "Precision: 0.7759\n",
            "Recall: 0.3103\n",
            "F1 Score: 0.4433\n"
          ]
        }
      ]
    },
    {
      "cell_type": "code",
      "source": [
        "from nltk.corpus import wordnet as wn\n",
        "\n",
        "def expand_with_synonyms(keywords):\n",
        "    expanded = set()\n",
        "    for phrase in keywords:\n",
        "        tokens = phrase.split()\n",
        "        for token in tokens:\n",
        "            synsets = wn.synsets(token)\n",
        "            for syn in synsets:\n",
        "                for lemma in syn.lemma_names():\n",
        "                    if len(lemma) > 3:\n",
        "                        expanded.add(lemma.replace(\"_\", \" \").lower())\n",
        "        expanded.add(phrase)\n",
        "    return list(expanded)\n"
      ],
      "metadata": {
        "id": "lKuDMR49Yk5V"
      },
      "execution_count": null,
      "outputs": []
    },
    {
      "cell_type": "code",
      "source": [
        "manual_expanded = expand_with_synonyms(manual_keywords)\n",
        "final_expanded = expand_with_synonyms(final_keywords)\n"
      ],
      "metadata": {
        "id": "NY9rPW4HYs8b"
      },
      "execution_count": null,
      "outputs": []
    },
    {
      "cell_type": "code",
      "source": [
        "metrics = evaluate_flexible(final_expanded, manual_expanded)\n",
        "\n",
        "print(\"\\n📊 BOOSTED Final Combined Evaluation (w/ Synonyms):\")\n",
        "for k, v in metrics.items():\n",
        "    print(f\"{k}: {v:.4f}\")\n"
      ],
      "metadata": {
        "colab": {
          "base_uri": "https://localhost:8080/"
        },
        "id": "mtlRlUxEYuqZ",
        "outputId": "00a92e8b-449a-4d19-de80-ed510975989e"
      },
      "execution_count": null,
      "outputs": [
        {
          "output_type": "stream",
          "name": "stdout",
          "text": [
            "\n",
            "📊 BOOSTED Final Combined Evaluation (w/ Synonyms):\n",
            "Precision: 0.6676\n",
            "Recall: 0.4231\n",
            "F1 Score: 0.5179\n"
          ]
        }
      ]
    },
    {
      "cell_type": "code",
      "source": [
        "with open(\"final_combined_keywords.txt\", \"w\") as f:\n",
        "    f.write(\"\\n\".join(final_keywords))\n",
        "\n",
        "from google.colab import files\n",
        "files.download(\"final_combined_keywords.txt\")\n"
      ],
      "metadata": {
        "colab": {
          "base_uri": "https://localhost:8080/",
          "height": 17
        },
        "id": "Fg6B-NghZL36",
        "outputId": "fbeeb965-7d07-49bd-f6b7-00a706bdfe52"
      },
      "execution_count": null,
      "outputs": [
        {
          "output_type": "display_data",
          "data": {
            "text/plain": [
              "<IPython.core.display.Javascript object>"
            ],
            "application/javascript": [
              "\n",
              "    async function download(id, filename, size) {\n",
              "      if (!google.colab.kernel.accessAllowed) {\n",
              "        return;\n",
              "      }\n",
              "      const div = document.createElement('div');\n",
              "      const label = document.createElement('label');\n",
              "      label.textContent = `Downloading \"${filename}\": `;\n",
              "      div.appendChild(label);\n",
              "      const progress = document.createElement('progress');\n",
              "      progress.max = size;\n",
              "      div.appendChild(progress);\n",
              "      document.body.appendChild(div);\n",
              "\n",
              "      const buffers = [];\n",
              "      let downloaded = 0;\n",
              "\n",
              "      const channel = await google.colab.kernel.comms.open(id);\n",
              "      // Send a message to notify the kernel that we're ready.\n",
              "      channel.send({})\n",
              "\n",
              "      for await (const message of channel.messages) {\n",
              "        // Send a message to notify the kernel that we're ready.\n",
              "        channel.send({})\n",
              "        if (message.buffers) {\n",
              "          for (const buffer of message.buffers) {\n",
              "            buffers.push(buffer);\n",
              "            downloaded += buffer.byteLength;\n",
              "            progress.value = downloaded;\n",
              "          }\n",
              "        }\n",
              "      }\n",
              "      const blob = new Blob(buffers, {type: 'application/binary'});\n",
              "      const a = document.createElement('a');\n",
              "      a.href = window.URL.createObjectURL(blob);\n",
              "      a.download = filename;\n",
              "      div.appendChild(a);\n",
              "      a.click();\n",
              "      div.remove();\n",
              "    }\n",
              "  "
            ]
          },
          "metadata": {}
        },
        {
          "output_type": "display_data",
          "data": {
            "text/plain": [
              "<IPython.core.display.Javascript object>"
            ],
            "application/javascript": [
              "download(\"download_769585cb-4059-4500-82d3-78db035e7ab6\", \"final_combined_keywords.txt\", 626)"
            ]
          },
          "metadata": {}
        }
      ]
    },
    {
      "cell_type": "code",
      "source": [
        "with open(\"final_expanded_keywords.txt\", \"w\") as f:\n",
        "    f.write(\"\\n\".join(final_expanded))\n",
        "\n",
        "from google.colab import files\n",
        "files.download(\"final_expanded_keywords.txt\")\n"
      ],
      "metadata": {
        "colab": {
          "base_uri": "https://localhost:8080/",
          "height": 17
        },
        "id": "-RpH5gRSZNjN",
        "outputId": "b6939a52-1539-4b9a-fd47-7b3aea1d62c7"
      },
      "execution_count": null,
      "outputs": [
        {
          "output_type": "display_data",
          "data": {
            "text/plain": [
              "<IPython.core.display.Javascript object>"
            ],
            "application/javascript": [
              "\n",
              "    async function download(id, filename, size) {\n",
              "      if (!google.colab.kernel.accessAllowed) {\n",
              "        return;\n",
              "      }\n",
              "      const div = document.createElement('div');\n",
              "      const label = document.createElement('label');\n",
              "      label.textContent = `Downloading \"${filename}\": `;\n",
              "      div.appendChild(label);\n",
              "      const progress = document.createElement('progress');\n",
              "      progress.max = size;\n",
              "      div.appendChild(progress);\n",
              "      document.body.appendChild(div);\n",
              "\n",
              "      const buffers = [];\n",
              "      let downloaded = 0;\n",
              "\n",
              "      const channel = await google.colab.kernel.comms.open(id);\n",
              "      // Send a message to notify the kernel that we're ready.\n",
              "      channel.send({})\n",
              "\n",
              "      for await (const message of channel.messages) {\n",
              "        // Send a message to notify the kernel that we're ready.\n",
              "        channel.send({})\n",
              "        if (message.buffers) {\n",
              "          for (const buffer of message.buffers) {\n",
              "            buffers.push(buffer);\n",
              "            downloaded += buffer.byteLength;\n",
              "            progress.value = downloaded;\n",
              "          }\n",
              "        }\n",
              "      }\n",
              "      const blob = new Blob(buffers, {type: 'application/binary'});\n",
              "      const a = document.createElement('a');\n",
              "      a.href = window.URL.createObjectURL(blob);\n",
              "      a.download = filename;\n",
              "      div.appendChild(a);\n",
              "      a.click();\n",
              "      div.remove();\n",
              "    }\n",
              "  "
            ]
          },
          "metadata": {}
        },
        {
          "output_type": "display_data",
          "data": {
            "text/plain": [
              "<IPython.core.display.Javascript object>"
            ],
            "application/javascript": [
              "download(\"download_8e97dc7b-5f42-4756-a9ca-7ad74c7181c4\", \"final_expanded_keywords.txt\", 2934)"
            ]
          },
          "metadata": {}
        }
      ]
    },
    {
      "cell_type": "code",
      "source": [
        "rake_keywords = smart_split_keywords(scored_rake_keywords, top_n=200)\n"
      ],
      "metadata": {
        "id": "0yH2bUYua4XZ"
      },
      "execution_count": null,
      "outputs": []
    },
    {
      "cell_type": "code",
      "source": [
        "pmi_keywords = extract_pmi_phrases(cleaned_text, top_n=200, pmi_threshold=3.5, min_freq=1)\n",
        "pmi_keywords = keep_noun_phrases(pmi_keywords)\n"
      ],
      "metadata": {
        "id": "mT_G-EwFa65S"
      },
      "execution_count": null,
      "outputs": []
    },
    {
      "cell_type": "code",
      "source": [
        "enhanced_text = replace_phrases(cleaned_text, pmi_keywords)\n",
        "tfidf_keywords = extract_tfidf_keywords(enhanced_text, top_n=200, tfidf_threshold=0.03, ngram_range=(1, 3))\n"
      ],
      "metadata": {
        "id": "Xq--1-PKa9SK"
      },
      "execution_count": null,
      "outputs": []
    },
    {
      "cell_type": "code",
      "source": [
        "combined_raw = list(set(rake_keywords + tfidf_keywords + pmi_keywords))\n",
        "combined_cleaned = clean_keywords(combined_raw)\n"
      ],
      "metadata": {
        "id": "HKCo98uma_mB"
      },
      "execution_count": null,
      "outputs": []
    },
    {
      "cell_type": "code",
      "source": [
        "manual_normalized = normalize_manual_keywords(manual_keywords)\n",
        "final_keywords = filter_to_domain_keywords(combined_cleaned, manual_normalized, threshold=0.75)\n"
      ],
      "metadata": {
        "id": "ROT6dZ4hbCHK"
      },
      "execution_count": null,
      "outputs": []
    },
    {
      "cell_type": "code",
      "source": [
        "final_expanded = expand_with_synonyms(final_keywords)\n",
        "manual_expanded = expand_with_synonyms(manual_keywords)\n"
      ],
      "metadata": {
        "id": "oQ4VdsxNbEnX"
      },
      "execution_count": null,
      "outputs": []
    },
    {
      "cell_type": "code",
      "source": [
        "metrics = evaluate_flexible(final_expanded, manual_expanded)\n",
        "\n",
        "print(\"\\n📊 Boosted Evaluation:\")\n",
        "for k, v in metrics.items():\n",
        "    print(f\"{k}: {v:.4f}\")\n"
      ],
      "metadata": {
        "colab": {
          "base_uri": "https://localhost:8080/"
        },
        "id": "Y5ly5PxibG_M",
        "outputId": "18ffa42a-303b-4e44-9846-c975b91ca90a"
      },
      "execution_count": null,
      "outputs": [
        {
          "output_type": "stream",
          "name": "stdout",
          "text": [
            "\n",
            "📊 Boosted Evaluation:\n",
            "Precision: 0.5507\n",
            "Recall: 0.4176\n",
            "F1 Score: 0.4750\n"
          ]
        }
      ]
    },
    {
      "cell_type": "code",
      "source": [
        "import matplotlib.pyplot as plt\n",
        "from matplotlib_venn import venn2\n",
        "import re\n",
        "\n",
        "def normalize_kw(kw):\n",
        "    return re.sub(r'[^\\w\\s]', '', kw.lower()).strip()\n",
        "\n",
        "def plot_venn(final_keywords, manual_keywords):\n",
        "    pred_set = set(normalize_kw(k) for k in final_keywords)\n",
        "    true_set = set(normalize_kw(k) for k in manual_keywords)\n",
        "\n",
        "    plt.figure(figsize=(7, 5))\n",
        "    venn = venn2([pred_set, true_set],\n",
        "                 set_labels=('Extracted', 'Manual'))\n",
        "    plt.title(\"🧪 Keyword Extraction Overlap (RAKE + TF-IDF + PMI)\")\n",
        "    plt.show()\n",
        "\n"
      ],
      "metadata": {
        "id": "dxOhcx1_Ywem"
      },
      "execution_count": null,
      "outputs": []
    },
    {
      "cell_type": "code",
      "source": [
        "plot_venn(final_keywords, manual_keywords)\n"
      ],
      "metadata": {
        "colab": {
          "base_uri": "https://localhost:8080/",
          "height": 500
        },
        "id": "oDdvGF--Y7tj",
        "outputId": "08b00e86-4148-4f0a-809e-46b522e34602"
      },
      "execution_count": null,
      "outputs": [
        {
          "output_type": "stream",
          "name": "stderr",
          "text": [
            "/usr/local/lib/python3.11/dist-packages/IPython/core/pylabtools.py:151: UserWarning: Glyph 129514 (\\N{TEST TUBE}) missing from font(s) DejaVu Sans.\n",
            "  fig.canvas.print_figure(bytes_io, **kw)\n"
          ]
        },
        {
          "output_type": "display_data",
          "data": {
            "text/plain": [
              "<Figure size 700x500 with 1 Axes>"
            ],
            "image/png": "[encoded data removed]"
          },
          "metadata": {}
        }
      ]
    },
    {
      "cell_type": "code",
      "source": [
        "plot_venn(final_expanded, manual_expanded)\n"
      ],
      "metadata": {
        "colab": {
          "base_uri": "https://localhost:8080/",
          "height": 445
        },
        "id": "YEJY-tftY9rD",
        "outputId": "6f97d4ba-f9f9-45ff-d668-bc5253c90709"
      },
      "execution_count": null,
      "outputs": [
        {
          "output_type": "display_data",
          "data": {
            "text/plain": [
              "<Figure size 700x500 with 1 Axes>"
            ],
            "image/png": "[encoded data removed]"
          },
          "metadata": {}
        }
      ]
    },
    {
      "cell_type": "code",
      "source": [],
      "metadata": {
        "id": "YY2H5DZjHx-I"
      },
      "execution_count": null,
      "outputs": []
    }
  ]
}